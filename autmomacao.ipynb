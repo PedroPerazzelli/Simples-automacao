{
 "cells": [
  {
   "cell_type": "code",
   "execution_count": 22,
   "metadata": {},
   "outputs": [
    {
     "name": "stdout",
     "output_type": "stream",
     "text": [
      "A posição do cursor é: x=1069, y=482\n"
     ]
    }
   ],
   "source": [
    "\n",
    "pyautogui.PAUSE = 1\n",
    "\n",
    "time.sleep(3)\n",
    "x, y = pyautogui.position()\n",
    "\n",
    "# Exibe as coordenadas x e y\n",
    "print(f'A posição do cursor é: x={x}, y={y}')\n"
   ]
  },
  {
   "cell_type": "code",
   "execution_count": 26,
   "metadata": {},
   "outputs": [],
   "source": [
    "time.sleep(3)\n",
    "pyautogui.click(1148, 210)\n",
    "time.sleep(3)\n",
    "pyautogui.click(1069, 482)\n",
    "pyautogui.scroll(-52)\n",
    "time.sleep(2)"
   ]
  },
  {
   "cell_type": "code",
   "execution_count": 33,
   "metadata": {},
   "outputs": [
    {
     "ename": "KeyboardInterrupt",
     "evalue": "",
     "output_type": "error",
     "traceback": [
      "\u001b[1;31m---------------------------------------------------------------------------\u001b[0m",
      "\u001b[1;31mKeyboardInterrupt\u001b[0m                         Traceback (most recent call last)",
      "Cell \u001b[1;32mIn[33], line 15\u001b[0m\n\u001b[0;32m     13\u001b[0m time\u001b[38;5;241m.\u001b[39msleep(\u001b[38;5;241m1\u001b[39m)\n\u001b[0;32m     14\u001b[0m pyautogui\u001b[38;5;241m.\u001b[39mclick(\u001b[38;5;241m1069\u001b[39m, \u001b[38;5;241m482\u001b[39m)\n\u001b[1;32m---> 15\u001b[0m pyautogui\u001b[38;5;241m.\u001b[39mscroll(\u001b[38;5;241m-\u001b[39m\u001b[38;5;241m53\u001b[39m)\n\u001b[0;32m     16\u001b[0m time\u001b[38;5;241m.\u001b[39msleep(\u001b[38;5;241m2\u001b[39m)\n",
      "File \u001b[1;32m~\\anaconda3\\Lib\\site-packages\\pyautogui\\__init__.py:595\u001b[0m, in \u001b[0;36m_genericPyAutoGUIChecks.<locals>.wrapper\u001b[1;34m(*args, **kwargs)\u001b[0m\n\u001b[0;32m    593\u001b[0m failSafeCheck()\n\u001b[0;32m    594\u001b[0m returnVal \u001b[38;5;241m=\u001b[39m wrappedFunction(\u001b[38;5;241m*\u001b[39margs, \u001b[38;5;241m*\u001b[39m\u001b[38;5;241m*\u001b[39mkwargs)\n\u001b[1;32m--> 595\u001b[0m _handlePause(kwargs\u001b[38;5;241m.\u001b[39mget(\u001b[38;5;124m\"\u001b[39m\u001b[38;5;124m_pause\u001b[39m\u001b[38;5;124m\"\u001b[39m, \u001b[38;5;28;01mTrue\u001b[39;00m))\n\u001b[0;32m    596\u001b[0m \u001b[38;5;28;01mreturn\u001b[39;00m returnVal\n",
      "File \u001b[1;32m~\\anaconda3\\Lib\\site-packages\\pyautogui\\__init__.py:639\u001b[0m, in \u001b[0;36m_handlePause\u001b[1;34m(_pause)\u001b[0m\n\u001b[0;32m    637\u001b[0m \u001b[38;5;28;01mif\u001b[39;00m _pause:\n\u001b[0;32m    638\u001b[0m     \u001b[38;5;28;01massert\u001b[39;00m \u001b[38;5;28misinstance\u001b[39m(PAUSE, \u001b[38;5;28mint\u001b[39m) \u001b[38;5;129;01mor\u001b[39;00m \u001b[38;5;28misinstance\u001b[39m(PAUSE, \u001b[38;5;28mfloat\u001b[39m)\n\u001b[1;32m--> 639\u001b[0m     time\u001b[38;5;241m.\u001b[39msleep(PAUSE)\n",
      "\u001b[1;31mKeyboardInterrupt\u001b[0m: "
     ]
    }
   ],
   "source": [
    "import pyautogui\n",
    "import time\n",
    "\n",
    "time.sleep(3)\n",
    "pyautogui.click(1148, 210)\n",
    "time.sleep(2)\n",
    "\n",
    "# Número de iterações desejadas\n",
    "numero_iteracoes = 100\n",
    "\n",
    "for _ in range(numero_iteracoes):\n",
    "    \n",
    "    time.sleep(1)\n",
    "    pyautogui.click(1069, 482)\n",
    "    pyautogui.scroll(-53)\n",
    "    time.sleep(1)"
   ]
  },
  {
   "cell_type": "code",
   "execution_count": null,
   "metadata": {},
   "outputs": [],
   "source": [
    "import pyautogui\n",
    "import pyperclip\n",
    "import time\n",
    "\n",
    "pyautogui.PAUSE = 1\n",
    "\n",
    "\n",
    "time.sleep(3)\n",
    "pyautogui.click(794, 326)\n",
    "# Move the mouse to the specified coordinates and click\n",
    "\n",
    "pyautogui.scroll(-50)\n",
    "time.sleep(2)\n",
    "\n",
    "pyautogui.click(794, 326)\n",
    "pyautogui.scroll(-50)\n",
    "time.sleep(2)\n",
    "\n",
    "pyautogui.click(794, 326)\n",
    "pyautogui.scroll(-50)\n",
    "time.sleep(2)\n",
    "\n",
    "pyautogui.click(794, 326)\n",
    "pyautogui.scroll(-50)\n",
    "time.sleep(2)\n",
    "\n",
    "pyautogui.click(794, 326)\n",
    "pyautogui.scroll(-50)\n",
    "time.sleep(2)\n",
    "\n",
    "pyautogui.click(794, 326)\n",
    "pyautogui.scroll(-50)\n",
    "time.sleep(2)\n",
    "\n",
    "pyautogui.click(794, 326)\n",
    "pyautogui.scroll(-50)\n",
    "time.sleep(2)\n",
    "\n",
    "pyautogui.click(794, 326)\n",
    "pyautogui.scroll(-50)\n",
    "time.sleep(2)\n",
    "\n",
    "pyautogui.click(794, 326)\n",
    "pyautogui.scroll(-50)\n",
    "time.sleep(2)"
   ]
  }
 ],
 "metadata": {
  "kernelspec": {
   "display_name": "Python 3 (ipykernel)",
   "language": "python",
   "name": "python3"
  },
  "language_info": {
   "codemirror_mode": {
    "name": "ipython",
    "version": 3
   },
   "file_extension": ".py",
   "mimetype": "text/x-python",
   "name": "python",
   "nbconvert_exporter": "python",
   "pygments_lexer": "ipython3",
   "version": "3.11.5"
  }
 },
 "nbformat": 4,
 "nbformat_minor": 2
}
